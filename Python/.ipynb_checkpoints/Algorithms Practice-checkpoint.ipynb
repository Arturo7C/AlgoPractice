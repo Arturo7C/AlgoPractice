{
 "cells": [
  {
   "cell_type": "markdown",
   "metadata": {},
   "source": [
    "# Problems & Solutions\n",
    "Arturo Carcamo"
   ]
  },
  {
   "cell_type": "markdown",
   "metadata": {},
   "source": [
    "# Two Number Sum\n",
    "Write a function that takes in a non-empty array of distinct integers and an integer representing a target sum. If any two numbers in the input array sum up to the target sum, the function should return them in an array. If no two numbers sum up to the target sum, the function should return an empty array. Assume that there will be at most one pair of numbers summing up to the target sum.\n",
    "\n",
    "### Sample Input\n",
    "\n",
    "`array = [3, 5, -4, 8, 11, 1, -1, 6]`\n",
    "\n",
    "`targetSum = 10`\n",
    "\n",
    "### Sample Output\n",
    "\n",
    "`[-1, 11]`"
   ]
  },
  {
   "cell_type": "code",
   "execution_count": 9,
   "metadata": {},
   "outputs": [],
   "source": [
    "# time: O(n^2) | space: O(1)\n",
    "\n",
    "def twoNumberSum0(array, targetSum):\n",
    "    for i in range(len(array) - 1):\n",
    "        firstNumber = array[i]\n",
    "        for j  in range(i+1, len(array)):\n",
    "            secondNumber = array[j]\n",
    "            if firstNumber + secondNumber == targetSum:\n",
    "                return [firstNumber, secondNumber]\n",
    "    return []\n",
    "\n"
   ]
  },
  {
   "cell_type": "code",
   "execution_count": 22,
   "metadata": {},
   "outputs": [],
   "source": [
    "# time: O(n) | space: O(n)\n",
    "\n",
    "def twoNumberSum1(array, targetSum):\n",
    "    numbers = {}\n",
    "    for num in array:\n",
    "        potentialMatch = targetSum - num\n",
    "        if potentialMatch in numbers:\n",
    "            return [potentialMatch, num]\n",
    "        else:\n",
    "            numbers[num] = True\n",
    "    return []"
   ]
  },
  {
   "cell_type": "code",
   "execution_count": 32,
   "metadata": {},
   "outputs": [],
   "source": [
    "# time: O(nlogn) | space: O(1) (assuming we use a sorting algorithm that takes log(n) time)\n",
    "def twoNumberSum2(array, targetSum):\n",
    "    array.sort() \n",
    "    left = 0\n",
    "    right = (len(array) - 1)\n",
    "    \n",
    "    while left < right:\n",
    "        currentSum = array[left] + array[right]\n",
    "        \n",
    "        if(currentSum == targetSum):\n",
    "            return[array[left], array[right]]\n",
    "        elif currentSum < targetSum:\n",
    "            left += 1\n",
    "        elif currentSum > targetSum:\n",
    "            right -= 1\n",
    "    return [] \n"
   ]
  },
  {
   "cell_type": "code",
   "execution_count": 18,
   "metadata": {},
   "outputs": [],
   "source": [
    "arrayTest1 = [4, 6]\n",
    "sumTest1 = 10\n",
    "#(output, [4, 6])\n",
    "arrayTest2 = [4, 6, 1]\n",
    "sumTest2 = 5\n",
    "#(output, [1, 4])\n",
    "arrayTest3 = [4, 6, 1, -3]\n",
    "sumTest3 = 3\n",
    "#(output, [-3, 6])\n",
    "arrayTest4 = [3, 5, -4, 8, 11, 1, -1, 6]\n",
    "sumTest4 = 10\n",
    "#(output, [-1, 11])\n",
    "arrayTest5 = [1, 2, 3, 4, 5, 6, 7, 8, 9]\n",
    "sumTest5 = 17\n",
    "#(output, [8, 9])\n",
    "arrayTest6 = [1, 2, 3, 4, 5, 6, 7, 8, 9, 15]\n",
    "sumTest6 = 18\n",
    "#(output, [3, 15])\n",
    "arrayTest7 = [-7, -5, -3, -1, 0, 1, 3, 5, 7]\n",
    "sumTest7 = -5\n",
    "#(output, [-5, 0])\n",
    "arrayTest8 = [-21, 301, 12, 4, 65, 56, 210, 356, 9, -47]\n",
    "sumTest8 = 163\n",
    "#(output, [-7, 210])\n",
    "arrayTest9 = [-21, 301, 12, 4, 65, 56, 210, 356, 9, -47]\n",
    "sumTest9 = 164\n",
    "#(output, [])\n",
    "arrayTest10 = [3, 5, -4, 8, 11, 1, -1, 6]\n",
    "sumTest10 = 15\n",
    "#(output, [])\n"
   ]
  },
  {
   "cell_type": "code",
   "execution_count": 36,
   "metadata": {},
   "outputs": [
    {
     "data": {
      "text/plain": [
       "[1, 4]"
      ]
     },
     "execution_count": 36,
     "metadata": {},
     "output_type": "execute_result"
    }
   ],
   "source": [
    "twoNumberSum2(arrayTest2, sumTest2)"
   ]
  },
  {
   "cell_type": "markdown",
   "metadata": {},
   "source": [
    "# Find Closest Value in BST\n",
    "\n",
    "Write a function that takes in a Binary Search Tree (BTS) and a target integer value and returns the closest value to that target balue contained in the BST.\n",
    "\n",
    "you can assume that there will only be one closest value. \n",
    "\n",
    "Each `BST` node has an integer value stored in a property called `value` and two children nodes stored in properties called `left` and `right`, respectively. A node is said to be a `BST` node if and only if it satisfies the BST property: its `value` is strictly greater than the values of every node to its left; its value is less than or equal to the values of every node to its right; and both of its children nodes are either `BST` nodes themselves or `None`/`null` values. \n",
    "\n",
    "### Sample Input\n",
    "\n",
    "` tree =   10\n",
    "        /   \\\n",
    "       5     15\n",
    "      / \\   /  \\\n",
    "     2  5  13  22\n",
    "    /       \\   \n",
    "   1         14`\n",
    "   \n",
    " ### Sample Output\n",
    " \n",
    " \n",
    " `13`"
   ]
  },
  {
   "cell_type": "code",
   "execution_count": 5,
   "metadata": {},
   "outputs": [],
   "source": [
    "# time: average O(logn), worst O(n) | space: average O(logn), worst O(n) if the tree nodes only have one child, the O(n)\n",
    "def findClosestValueInBst(tree, target):\n",
    "    return findClosestValueInBstHelper(tree, target, float(\"inf\"))\n",
    "\n",
    "def findClosestValueInBstHelper(tree, target, closest):\n",
    "    if tree is None:\n",
    "        return closest\n",
    "    if abs(target - closest) > abs(target - tree.value):\n",
    "        closest = tree.value\n",
    "    if target < tree.value:\n",
    "        return findClosestValueInBstHelper(tree.left, target, closest)\n",
    "    elif target > tree.value:\n",
    "        return findClosestValueInBstHelper(tree.right, target, closest)\n",
    "    else:\n",
    "        return closest"
   ]
  },
  {
   "cell_type": "code",
   "execution_count": 8,
   "metadata": {},
   "outputs": [],
   "source": [
    "# time: average O(logn), worst O(n) | space: average O(1), worst O(1) if the tree nodes only have one child, the O(n)\n",
    "def findClosestValueInBst(tree, target):\n",
    "    return findClosestValueInBstHelper(tree, target, float(\"inf\"))\n",
    "\n",
    "def findClosestValueInBstHelper(tree, target, closest):\n",
    "    if tree is None:\n",
    "        return closest\n",
    "    if abs(target - closest) > abs(target - tree.value):\n",
    "        closest = tree.value\n",
    "    if target < tree.value:\n",
    "        return findClosestValueInBstHelper(tree.left, target, closest)\n",
    "    elif target > tree.value:\n",
    "        return findClosestValueInBstHelper(tree.right, target, closest)\n",
    "    else:\n",
    "        return closest"
   ]
  },
  {
   "cell_type": "markdown",
   "metadata": {},
   "source": [
    "# Branch Sums\n",
    "\n",
    "write a function that takes in a Binary Tree and returns a list of its branch sums ordered from leftmost branch sum to rightmost branch sum. \n",
    "\n",
    "A branch sum is the sum of all values in a Binary Tree branch. A Binary Tree branch is a path of nodes in a tree that starts as the root node and ends at any leaf node.\n",
    "\n",
    "Each `BinaryTree` node has an integer `value`, a `lef` child node, and a `right` child node. Children can either be `BinaryTree` node themselves or `None` / `null`\n",
    "\n",
    "### Sample Input\n",
    "\n",
    "`tree =    1\n",
    "         /   \\\n",
    "       2       3\n",
    "     /   \\     / \\\n",
    "    4     5   6   7\n",
    "   / \\   /\n",
    " 8   9  10`\n",
    " \n",
    " ### Sample Output\n",
    " \n",
    " `[15, 16, 18. 10, 11]`"
   ]
  },
  {
   "cell_type": "code",
   "execution_count": 1,
   "metadata": {},
   "outputs": [],
   "source": [
    "# time: O(n) | space: O(n) - where n is the number of nodes in the Binary Tree\n",
    "class BinaryTree:\n",
    "    def __init__(self, value):\n",
    "        self.value = value\n",
    "        self.left = None\n",
    "        self.right = None\n",
    "        \n",
    "def branchSums(root):\n",
    "    sums = []\n",
    "    calculateBranchSum(root, 0, sums)\n",
    "    return sums\n",
    "\n",
    "def calculateBranchSum(node, runningSum, sums):\n",
    "    if node is None:\n",
    "        return\n",
    "    newRunningSum = runningSum + node.value\n",
    "    if node.left is None and node.right is None:\n",
    "        sums.append(newRunningSum)\n",
    "        return\n",
    "    calculateBranchSum(node.left, runningSum, sums)\n",
    "    calculateBranchSum(node.right, runningSum, sums)"
   ]
  },
  {
   "cell_type": "markdown",
   "metadata": {},
   "source": [
    "# Depth-first Search\n",
    "\n",
    "You're given a `Node` class that has a `name` and an array of optional `children` nodes. When put together, nodes form an acyclic tree-like structure.\n",
    "\n",
    "Implement the `depthFirstSearch` method on the `Node` class, which takes in an empty array, traverses the tree using the Depth-first Search approach (specifically navigating the tree from left to right). Stores all of the nodes' name in the input array, and returns it.\n",
    "\n",
    "### Sample Input\n",
    "\n",
    "`graph =  A\n",
    "        / | \\\n",
    "       B  C  D\n",
    "      / \\   / \\\n",
    "     E  F  G   H\n",
    "       / \\  \\\n",
    "      I   J  K`\n",
    "      \n",
    "### Sample Output\n",
    "\n",
    "`[\"A\", \"B\", \"E\", \"F\", \"I\", \"J\", \"C\", \"D\", \"G\", \"K\", \"H\"]`"
   ]
  },
  {
   "cell_type": "code",
   "execution_count": 3,
   "metadata": {},
   "outputs": [],
   "source": [
    "#time: O(v + E) | Space (v) \n",
    "class Node:\n",
    "    def __init__(self, name):\n",
    "        self.children = []\n",
    "        self.name = name\n",
    "        \n",
    "    def addChild(self, name):\n",
    "        self.children.append(Node(name))\n",
    "        return self\n",
    "    \n",
    "    def depthFristSearch(self, array):\n",
    "        array.append(self.name)\n",
    "        for child in self.children:\n",
    "            child.depthFirstSearch(array)\n",
    "        return array"
   ]
  },
  {
   "cell_type": "markdown",
   "metadata": {},
   "source": [
    "# Nth Fibonacci\n",
    "\n",
    "The fibonacci sequence is defined as follows: the first number of the sequence is `0`, the second number is `1`, and the nth number is the sum of the (n-1)th and (n-2)th numbers. wrtie a function that takes in an integer `n` and returns the nth fibonacci number. \n",
    "\n",
    "important note: the Fibonacci sequence is often define with its first two numbers as `F0 = 0` and `F1 = 1`. For the purpose of this question, the first Fibonacci number is `F0`: therefire, `getNthFib(1)` is equal to `F0`. `getNthFib(2)` is equal to `F1`, etc..\n",
    "\n",
    "### Sample Input\n",
    "`n = 2`\n",
    "\n",
    "### Sample Output\n",
    "`1 // 0,1`\n",
    "\n",
    "### Sample Input 2\n",
    "`n = 6`\n",
    "\n",
    "### Sample Output 2\n",
    "`5 //0, 1, 1, 2, 3, 5`"
   ]
  },
  {
   "cell_type": "code",
   "execution_count": 5,
   "metadata": {
    "scrolled": true
   },
   "outputs": [
    {
     "name": "stdout",
     "output_type": "stream",
     "text": [
      "14930352\n"
     ]
    }
   ],
   "source": [
    "# Time: O(2^n) | Space: O(n)\n",
    "def getNthFib(n):\n",
    "    if n == 2:\n",
    "        return 1\n",
    "    elif n == 1:\n",
    "        return 0\n",
    "    else:\n",
    "        return getNthFib(n-1) + getNthFib(n-2)\n",
    "    \n",
    "print(getNthFib(37))\n",
    "    "
   ]
  },
  {
   "cell_type": "code",
   "execution_count": 6,
   "metadata": {},
   "outputs": [
    {
     "name": "stdout",
     "output_type": "stream",
     "text": [
      "14930352\n"
     ]
    }
   ],
   "source": [
    "# Time: O(n) | Space: O(n)\n",
    "def getNthFib(n, memoize = {1: 0, 2: 1}):\n",
    "    if n in memoize:\n",
    "        return memoize[n]\n",
    "    else:\n",
    "        memoize[n] = getNthFib(n-1, memoize) + getNthFib(n-2, memoize)\n",
    "        return memoize[n]\n",
    "    \n",
    "print(getNthFib(37))"
   ]
  },
  {
   "cell_type": "code",
   "execution_count": 10,
   "metadata": {},
   "outputs": [
    {
     "name": "stdout",
     "output_type": "stream",
     "text": [
      "14930352\n"
     ]
    }
   ],
   "source": [
    "# Time: O(n) | Space: O(1)\n",
    "def getNthFib(n):\n",
    "    lastTwo = [0, 1]\n",
    "    counter = 3\n",
    "    while counter <= n:\n",
    "        nextFib = lastTwo[0] + lastTwo[1]\n",
    "        lastTwo[0] = lastTwo[1]\n",
    "        lastTwo[1] = nextFib\n",
    "        counter += 1\n",
    "    return lastTwo[1] if n > 1 else lastTwo[0]\n",
    "\n",
    "print(getNthFib(37))"
   ]
  },
  {
   "cell_type": "markdown",
   "metadata": {},
   "source": [
    "# Product Sum\n",
    "\n",
    "Write a function that takes in a \"special\" array and returns its product sum. A \"special\" array is a non-empty array that contains either integers or other \"special\" arrays. The product sum of a \"special\" array is the sum of its elements, where \"special\" arrays inside it are summed themselves and then multiplied by their level of depth.\n",
    "\n",
    "For example, the product sum of `[x,y]` is `x + y`; the product sum of `[x, [y,z]]` is `x + 2y + 2z`.\n",
    "\n",
    "### Sample Input\n",
    "\n",
    "`array = [5, 2, [7, -1], 3, [6, [-13, 8], 4]`\n",
    "\n",
    "### Sample Output\n",
    "\n",
    "`12  // calcualted as: 5 + 2 + 2*(7-1) + 3 + 2*(6+3 * (-13+8) +4)` "
   ]
  },
  {
   "cell_type": "code",
   "execution_count": 9,
   "metadata": {},
   "outputs": [
    {
     "name": "stdout",
     "output_type": "stream",
     "text": [
      "475\n"
     ]
    }
   ],
   "source": [
    "# Time: O(N) | Space O(D) \n",
    "# N is the number of elements and special arrays, for example if we have the special array:[5, 2, [7, -1], 3, [6, [-13, 8], 4]\n",
    "# then N = 12. D is the depth of the of the \"speical\" array, becuase we make recursive calls, and we use space in the stack. \n",
    "\n",
    "def productSum(array, multiplier = 1):\n",
    "    sum = 0;\n",
    "    for element in array:\n",
    "        if type(element) is list:\n",
    "            sum += productSum(element, multiplier + 1)\n",
    "        else:\n",
    "            sum += element\n",
    "    return sum * multiplier\n",
    "    \n",
    "\n",
    "array = [5, 2, [7, -1], 3, [6, [-13, 8], 4], 5, 6, [1,3,[5,4,5,[5,3,2],4,5,3],15,2],1,5,8]\n",
    "print(productSum(array))"
   ]
  },
  {
   "cell_type": "markdown",
   "metadata": {},
   "source": [
    "# Binary Search\n",
    "\n",
    "Write a function that takes in a sorted array of integers as well as a target integer. the function should use the Binary Search algorithm to determine if the target integer is contained in the array and should return its index if it is, otherwise `-1`\n",
    "\n",
    "### Sample input\n",
    "`array = [0, 1, 21, 33, 45, 45, 61, 71, 73]`\n",
    "`target = 33`\n",
    "\n",
    "### Sample output\n",
    "`3`"
   ]
  },
  {
   "cell_type": "code",
   "execution_count": 26,
   "metadata": {},
   "outputs": [],
   "source": [
    "# Time: O(log(N)) | Space: O(logn(n))\n",
    "def binarySearch(array, target):\n",
    "    return binarySearchHelper(array, target, 0, len(array) - 1)\n",
    "    \n",
    "def binarySearchHelper(array, target, left, right):\n",
    "    if left > right:\n",
    "        return -1\n",
    "    middle = (left+right)//2\n",
    "    potentialMatch = array[middle]\n",
    "    if target == potentialMatch:\n",
    "        return middle\n",
    "    elif target < potentialMatch:\n",
    "        return binarySearchHelper(array, target, left, middle - 1)\n",
    "    else:\n",
    "        return binarySearchHelper(array, target, middle + 1, right)\n"
   ]
  },
  {
   "cell_type": "code",
   "execution_count": 31,
   "metadata": {},
   "outputs": [],
   "source": [
    "# Time: O(log(N)) | Space: O(1)\n",
    "def binarySearch(array, target):\n",
    "    return binarySearchHelper(array, target, 0, len(array) - 1)\n",
    "    \n",
    "def binarySearchHelper(array, target, left, right):\n",
    "    while left <= right:\n",
    "        middle = (left+right)//2\n",
    "        potentialMatch = array[middle]\n",
    "        if target == potentialMatch:\n",
    "            return middle\n",
    "        elif target < potentialMatch:\n",
    "            right = middle - 1\n",
    "        else:\n",
    "            left = middle + 1\n",
    "    return -1"
   ]
  },
  {
   "cell_type": "markdown",
   "metadata": {},
   "source": [
    "# Find Three Largest Numbers\n",
    "\n",
    "Write a function that takes in an array of integers and, without sorting the input array, returns a sorted array of the three largest integers in the input array.\n",
    "\n",
    "The function should return duplicate integers if necessary; for example, it should return `[10, 10, 12]` for an input array of `[10, 5, 9, 10, 12]`\n",
    "\n",
    "### Sample Input\n",
    "\n",
    "`array = [141, 1, 17, -7, -17, -27, 18, 541, 8, 7, 7]`\n",
    "\n",
    "### Sample Output\n",
    "\n",
    "`[18, 141, 541]`"
   ]
  },
  {
   "cell_type": "code",
   "execution_count": 6,
   "metadata": {},
   "outputs": [],
   "source": [
    "# Time: O(n) | Space: O(1)\n",
    "def findThreeLargestNumbers(array):\n",
    "    largest = [None, None, None]\n",
    "    for number in array:\n",
    "        updateLargest(largest, number)\n",
    "    return largest\n",
    "\n",
    "def updateLargest(largest, number):\n",
    "    if largest[2] is None or number > largest[2]:\n",
    "        shiftAndUpdate(largest, number, 2) \n",
    "    elif largest[1] is None or number > largest[1]:\n",
    "        shiftAndUpdate(largest, number, 1) \n",
    "    elif largest[0] is None or number > largest[0]:\n",
    "        shiftAndUpdate(largest, number, 0)\n",
    "        \n",
    "def shiftAndUpdate(largest, number, index):\n",
    "    for i in range(index + 1):\n",
    "        if i == index:\n",
    "            largest[i] = number\n",
    "        else:\n",
    "            largest[i] = largest[i + 1]"
   ]
  },
  {
   "cell_type": "code",
   "execution_count": 7,
   "metadata": {},
   "outputs": [
    {
     "name": "stdout",
     "output_type": "stream",
     "text": [
      "[-2, -1, 7]\n"
     ]
    }
   ],
   "source": [
    "array = [-1, -2, -3, -7, -17, -27, -18, -541, -8, -7, 7]\n",
    "\n",
    "print(findThreeLargestNumbers(array))"
   ]
  },
  {
   "cell_type": "markdown",
   "metadata": {},
   "source": [
    "# Bubble Sort\n",
    "\n",
    "Write a function that takes in an arrya of integers and returns a sorted version of that array. Use the Bubble Sort algorithm to sort the array.\n",
    "\n",
    "### Sample Input\n",
    "`array = [8, 5, 2, 9, 5, 6, 3]`\n",
    "\n",
    "### Sample Output\n",
    "`[2, 3, 5, 5, 6, 8, 9]`"
   ]
  },
  {
   "cell_type": "code",
   "execution_count": 2,
   "metadata": {},
   "outputs": [],
   "source": [
    "# Time: O(n^2) | Space: O(1)\n",
    "# counter is a small optimization that reduces the traversal of the for loop. once the foor loop runs the first time, \n",
    "# the last integer in the array is the largest, so there is no need to check that number again. for the socond run, the\n",
    "# second to last integer is the second largest, and there is no need to check on that either, so on and so on. \n",
    "def bubbleSort(array):\n",
    "    isSorted = False\n",
    "    counter = 0 # counter initialized to 0\n",
    "    while isSorted == False:\n",
    "        isSorted = True\n",
    "        for i in range(len(array) - 1 - counter): #we subtract counter so we dont iterate all the way until the end of the array\n",
    "            if array[i] > array[i+1]:\n",
    "                swap(i, i+1, array)\n",
    "                isSorted = False\n",
    "        counter += 1\n",
    "    return array\n",
    "\n",
    "def swap(i, j, array):\n",
    "    array[i], array[j] = array[j], array[i]"
   ]
  },
  {
   "cell_type": "markdown",
   "metadata": {},
   "source": [
    "# Insertion Sort\n",
    "\n",
    "Write a function that takes in an array of integers and returns a sorted version of that array. Use Insertion Sort algorithm to sort the array.\n",
    "\n",
    "### Sample Input\n",
    "`array = [8, 5, 2, 9, 5, 6, 3]`\n",
    "\n",
    "### Sample Output\n",
    "`[2, 3, 5, 5, 6, 8, 9]`"
   ]
  },
  {
   "cell_type": "code",
   "execution_count": 1,
   "metadata": {},
   "outputs": [],
   "source": [
    "# Time: O(n^2) | Space: O(1)\n",
    "def insertionSort(array):\n",
    "    for i in range(1, len(array)):\n",
    "        j = i\n",
    "        while j > 0 and array[j] < array[j-1]:\n",
    "            swap(j, j-1, array)\n",
    "            j -= 1\n",
    "    return array\n",
    "\n",
    "def swap(i, j, array):\n",
    "    array[i], array[j] = array[j], array[i]"
   ]
  },
  {
   "cell_type": "markdown",
   "metadata": {},
   "source": [
    "# Selection Sort\n",
    "\n",
    "Write a funciton that takes in an array of integers and returns a sorted version of that array. Use the Selection Sort algorithm to sort the array.\n",
    "\n",
    "### Sample Input\n",
    "`array = [8, 5, 2, 9, 5, 6, 3]`\n",
    "\n",
    "### Sample Output\n",
    "`[2, 3, 5, 5, 6, 8, 9]`"
   ]
  },
  {
   "cell_type": "code",
   "execution_count": 4,
   "metadata": {},
   "outputs": [],
   "source": [
    "#Time: O(n^2) | Space:  O(1)\n",
    "def selectionSort(array):\n",
    "    currentIndex = 0\n",
    "    while currentIndex < len(array)-1:\n",
    "        smallestIndex = currentIndex\n",
    "        for i in range(currentIndex + 1, len(array)):\n",
    "            if array[smallestIndex] > array[i]:\n",
    "                swap(smallestIndex, i, array)\n",
    "        currentIndex += 1\n",
    "    return array\n",
    "\n",
    "def swap(i, j, array):\n",
    "    array[i], array[j] = array[j], array[i]\n",
    "        "
   ]
  },
  {
   "cell_type": "code",
   "execution_count": null,
   "metadata": {},
   "outputs": [],
   "source": []
  }
 ],
 "metadata": {
  "kernelspec": {
   "display_name": "Python 3",
   "language": "python",
   "name": "python3"
  },
  "language_info": {
   "codemirror_mode": {
    "name": "ipython",
    "version": 3
   },
   "file_extension": ".py",
   "mimetype": "text/x-python",
   "name": "python",
   "nbconvert_exporter": "python",
   "pygments_lexer": "ipython3",
   "version": "3.7.4"
  }
 },
 "nbformat": 4,
 "nbformat_minor": 2
}
