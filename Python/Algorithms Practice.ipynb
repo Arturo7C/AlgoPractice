{
 "cells": [
  {
   "cell_type": "markdown",
   "metadata": {},
   "source": [
    "# Problems & Solutions\n",
    "Arturo Carcamo"
   ]
  },
  {
   "cell_type": "markdown",
   "metadata": {},
   "source": [
    "# Two Number Sum\n",
    "Write a function that takes in a non-empty array of distinct integers and an integer representing a target sum. If any two numbers in the input array sum up to the target sum, the function should return them in an array. If no two numbers sum up to the target sum, the function should return an empty array. Assume that there will be at most one pair of numbers summing up to the target sum."
   ]
  },
  {
   "cell_type": "code",
   "execution_count": 9,
   "metadata": {},
   "outputs": [],
   "source": [
    "# time: O(n^2) | space: O(1)\n",
    "\n",
    "def twoNumberSum0(array, targetSum):\n",
    "    for i in range(len(array) - 1):\n",
    "        firstNumber = array[i]\n",
    "        for j  in range(i+1, len(array)):\n",
    "            secondNumber = array[j]\n",
    "            if firstNumber + secondNumber == targetSum:\n",
    "                return [firstNumber, secondNumber]\n",
    "    return []\n",
    "\n"
   ]
  },
  {
   "cell_type": "code",
   "execution_count": 22,
   "metadata": {},
   "outputs": [],
   "source": [
    "# time: O(n) | space: O(n)\n",
    "\n",
    "def twoNumberSum1(array, targetSum):\n",
    "    numbers = {}\n",
    "    for num in array:\n",
    "        potentialMatch = targetSum - num\n",
    "        if potentialMatch in numbers:\n",
    "            return [potentialMatch, num]\n",
    "        else:\n",
    "            numbers[num] = True\n",
    "    return []"
   ]
  },
  {
   "cell_type": "code",
   "execution_count": 32,
   "metadata": {},
   "outputs": [],
   "source": [
    "# time: O(nlogn) | space: O(1)\n",
    "def twoNumberSum2(array, targetSum):\n",
    "    array.sort()\n",
    "    left = 0\n",
    "    right = (len(array) - 1)\n",
    "    \n",
    "    while left < right:\n",
    "        currentSum = array[left] + array[right]\n",
    "        \n",
    "        if(currentSum == targetSum):\n",
    "            return[array[left], array[right]]\n",
    "        elif currentSum < targetSum:\n",
    "            left += 1\n",
    "        elif currentSum > targetSum:\n",
    "            right -= 1\n",
    "    return [] \n"
   ]
  },
  {
   "cell_type": "code",
   "execution_count": 18,
   "metadata": {},
   "outputs": [],
   "source": [
    "arrayTest1 = [4, 6]\n",
    "sumTest1 = 10\n",
    "#(output, [4, 6])\n",
    "arrayTest2 = [4, 6, 1]\n",
    "sumTest2 = 5\n",
    "#(output, [1, 4])\n",
    "arrayTest3 = [4, 6, 1, -3]\n",
    "sumTest3 = 3\n",
    "#(output, [-3, 6])\n",
    "arrayTest4 = [3, 5, -4, 8, 11, 1, -1, 6]\n",
    "sumTest4 = 10\n",
    "#(output, [-1, 11])\n",
    "arrayTest5 = [1, 2, 3, 4, 5, 6, 7, 8, 9]\n",
    "sumTest5 = 17\n",
    "#(output, [8, 9])\n",
    "arrayTest6 = [1, 2, 3, 4, 5, 6, 7, 8, 9, 15]\n",
    "sumTest6 = 18\n",
    "#(output, [3, 15])\n",
    "arrayTest7 = [-7, -5, -3, -1, 0, 1, 3, 5, 7]\n",
    "sumTest7 = -5\n",
    "#(output, [-5, 0])\n",
    "arrayTest8 = [-21, 301, 12, 4, 65, 56, 210, 356, 9, -47]\n",
    "sumTest8 = 163\n",
    "#(output, [-7, 210])\n",
    "arrayTest9 = [-21, 301, 12, 4, 65, 56, 210, 356, 9, -47]\n",
    "sumTest9 = 164\n",
    "#(output, [])\n",
    "arrayTest10 = [3, 5, -4, 8, 11, 1, -1, 6]\n",
    "sumTest10 = 15\n",
    "#(output, [])\n"
   ]
  },
  {
   "cell_type": "code",
   "execution_count": 36,
   "metadata": {},
   "outputs": [
    {
     "data": {
      "text/plain": [
       "[1, 4]"
      ]
     },
     "execution_count": 36,
     "metadata": {},
     "output_type": "execute_result"
    }
   ],
   "source": [
    "twoNumberSum2(arrayTest2, sumTest2)"
   ]
  },
  {
   "cell_type": "markdown",
   "metadata": {},
   "source": [
    "# Find Closest Value in BST\n",
    "\n",
    "You are given a BST data structure consisting of BST nodes. Each BST node has an integer value stored in a property called \"value\" and two children nodes stored in properties called \"left\" and \"right,\" respectively. A node is said to be a BST node if and only if it satisfies the BST property: its value is strictly greater than the values of every node to its left; its value is less than or equal to the values of every node to its right; and both of its children nodes are either BST nodes themselves or None (null) values. You are also given a target integer value; write a function that finds the closest value to that target value contained in the BST. Assume that there will only be one closest value."
   ]
  },
  {
   "cell_type": "code",
   "execution_count": 3,
   "metadata": {},
   "outputs": [],
   "source": [
    "# time: average O(logn), worst O(n) | space: average O(logn), worst O(n) if the tree nodes only have one child, the O(n)\n",
    "def closestValue0(tree, target):\n",
    "    return findClosestValueHelper(tree, target, float(\"inf\"))\n",
    "\n",
    "def findClosestValueHelper(tree, value, closest):\n",
    "    if tree is None:\n",
    "        return closest\n",
    "    if abs(target - closest) > abs(target - tree.value):\n",
    "        closest = target.value\n",
    "    if target < tree.value:\n",
    "        return findClosestValueHelper(tree.left, target, closest)\n",
    "    elif target > tree.value:\n",
    "        return findClosestValueHelper(tree.right, target, closest)\n",
    "    else:\n",
    "        return closest"
   ]
  },
  {
   "cell_type": "code",
   "execution_count": null,
   "metadata": {},
   "outputs": [],
   "source": [
    "def findClosestValueInBst(tree, target):\n",
    "    # Write your code here.\n",
    "    return findClosestHelper(tree, target, float(\"inf\"))\n",
    "\n",
    "def findClosestHelper(tree, target, closest):\n",
    "    if tree is None:\n",
    "        return closest\n",
    "    if abs(target - closest) > abs(target - tree.value):\n",
    "        closest = tree.value\n",
    "    if target > tree.value:\n",
    "        return findClosestHelper(tree.right, target, closest)\n",
    "    elif target < tree.value:\n",
    "        return findClosestHelper(tree.left, target, closest)\n",
    "    else:\n",
    "        return closest\n",
    "    pass"
   ]
  }
 ],
 "metadata": {
  "kernelspec": {
   "display_name": "Python 3",
   "language": "python",
   "name": "python3"
  },
  "language_info": {
   "codemirror_mode": {
    "name": "ipython",
    "version": 3
   },
   "file_extension": ".py",
   "mimetype": "text/x-python",
   "name": "python",
   "nbconvert_exporter": "python",
   "pygments_lexer": "ipython3",
   "version": "3.7.4"
  }
 },
 "nbformat": 4,
 "nbformat_minor": 2
}
